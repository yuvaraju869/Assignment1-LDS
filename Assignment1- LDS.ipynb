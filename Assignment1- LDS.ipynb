{
 "cells": [
  {
   "cell_type": "code",
   "execution_count": null,
   "id": "dd6f8021",
   "metadata": {},
   "outputs": [],
   "source": [
    "# Q1. Write a program to find all pairs of an integer array whose sum is equal to a given number?"
   ]
  },
  {
   "cell_type": "code",
   "execution_count": 1,
   "id": "b78dc071",
   "metadata": {},
   "outputs": [
    {
     "name": "stdout",
     "output_type": "stream",
     "text": [
      "Pairs with sum 7 are:\n",
      "(2, 5)\n",
      "(-2, 9)\n",
      "(3, 4)\n"
     ]
    }
   ],
   "source": [
    "def find_pairs_with_sum(arr, target_sum):\n",
    "    pairs = set()\n",
    "    seen_numbers = set()\n",
    "    \n",
    "    for num in arr:\n",
    "        complement = target_sum - num\n",
    "        \n",
    "        if complement in seen_numbers:\n",
    "            pairs.add((min(num, complement), max(num, complement)))\n",
    "        \n",
    "        seen_numbers.add(num)\n",
    "    \n",
    "    return pairs\n",
    "\n",
    "# Example usage\n",
    "array = [2, 4, 3, 5, 6, -2, 8, 9]\n",
    "target = 7\n",
    "result = find_pairs_with_sum(array, target)\n",
    "\n",
    "print(\"Pairs with sum\", target, \"are:\")\n",
    "for pair in result:\n",
    "    print(pair)"
   ]
  },
  {
   "cell_type": "code",
   "execution_count": null,
   "id": "7b6e5a18",
   "metadata": {},
   "outputs": [],
   "source": [
    "# Q2. Write a program to reverse an array in place? In place means you cannot create a new array. You have to update the original array."
   ]
  },
  {
   "cell_type": "code",
   "execution_count": 2,
   "id": "d55c45fc",
   "metadata": {},
   "outputs": [
    {
     "name": "stdout",
     "output_type": "stream",
     "text": [
      "Original array: [1, 2, 3, 4, 5]\n",
      "Reversed array: [5, 4, 3, 2, 1]\n"
     ]
    }
   ],
   "source": [
    "def reverse_array_in_place(arr):\n",
    "    left = 0\n",
    "    right = len(arr) - 1\n",
    "    \n",
    "    while left < right:\n",
    "        arr[left], arr[right] = arr[right], arr[left]  # Swap elements\n",
    "        left += 1\n",
    "        right -= 1\n",
    "\n",
    "# Example usage\n",
    "array = [1, 2, 3, 4, 5]\n",
    "print(\"Original array:\", array)\n",
    "reverse_array_in_place(array)\n",
    "print(\"Reversed array:\", array)"
   ]
  },
  {
   "cell_type": "code",
   "execution_count": null,
   "id": "5efc5599",
   "metadata": {},
   "outputs": [],
   "source": [
    "# Q3. Write a program to check if two strings are a rotation of each other?"
   ]
  },
  {
   "cell_type": "code",
   "execution_count": 4,
   "id": "59bb444b",
   "metadata": {},
   "outputs": [
    {
     "name": "stdout",
     "output_type": "stream",
     "text": [
      "'abcdef' and 'defabc' are rotations of each other.\n"
     ]
    }
   ],
   "source": [
    "def are_rotations(str1, str2):\n",
    "    if len(str1) != len(str2):\n",
    "        return False\n",
    "    \n",
    "    concatenated_str = str2 + str2\n",
    "    return str1 in concatenated_str\n",
    "\n",
    "# Example usage\n",
    "string1 = \"abcdef\"\n",
    "string2 = \"defabc\"\n",
    "if are_rotations(string1, string2):\n",
    "    print(f\"'{string1}' and '{string2}' are rotations of each other.\")\n",
    "else:\n",
    "    print(f\"'{string1}' and '{string2}' are not rotations of each other.\")"
   ]
  },
  {
   "cell_type": "code",
   "execution_count": null,
   "id": "549c731d",
   "metadata": {},
   "outputs": [],
   "source": [
    "# Q4. Write a program to print the first non-repeated character from a string?"
   ]
  },
  {
   "cell_type": "code",
   "execution_count": 5,
   "id": "2e687f35",
   "metadata": {},
   "outputs": [
    {
     "name": "stdout",
     "output_type": "stream",
     "text": [
      "The first non-repeated character: d\n"
     ]
    }
   ],
   "source": [
    "def first_non_repeated_char(string):\n",
    "    char_count = {}\n",
    "    \n",
    "    # Count the frequency of each character\n",
    "    for char in string:\n",
    "        if char in char_count:\n",
    "            char_count[char] += 1\n",
    "        else:\n",
    "            char_count[char] = 1\n",
    "    \n",
    "    # Find the first non-repeated character\n",
    "    for char in string:\n",
    "        if char_count[char] == 1:\n",
    "            return char\n",
    "    \n",
    "    return None  # No non-repeated character found\n",
    "\n",
    "# Example usage\n",
    "input_string = \"aabbccd\"\n",
    "result = first_non_repeated_char(input_string)\n",
    "\n",
    "if result:\n",
    "    print(\"The first non-repeated character:\", result)\n",
    "else:\n",
    "    print(\"No non-repeated character found.\")"
   ]
  },
  {
   "cell_type": "code",
   "execution_count": null,
   "id": "fb496fda",
   "metadata": {},
   "outputs": [],
   "source": [
    "# Q5. Read about the Tower of Hanoi algorithm. Write a program to implement it."
   ]
  },
  {
   "cell_type": "code",
   "execution_count": 6,
   "id": "39485e6b",
   "metadata": {},
   "outputs": [
    {
     "name": "stdout",
     "output_type": "stream",
     "text": [
      "Move disk 1 from A to C\n",
      "Move disk 2 from A to B\n",
      "Move disk 1 from C to B\n",
      "Move disk 3 from A to C\n",
      "Move disk 1 from B to A\n",
      "Move disk 2 from B to C\n",
      "Move disk 1 from A to C\n"
     ]
    }
   ],
   "source": [
    "def tower_of_hanoi(n, source, auxiliary, target):\n",
    "    if n > 0:\n",
    "        # Move n - 1 disks from source to auxiliary peg\n",
    "        tower_of_hanoi(n - 1, source, target, auxiliary)\n",
    "        \n",
    "        # Move the nth disk from source to target peg\n",
    "        print(f\"Move disk {n} from {source} to {target}\")\n",
    "        \n",
    "        # Move the n - 1 disks from auxiliary peg to target peg\n",
    "        tower_of_hanoi(n - 1, auxiliary, source, target)\n",
    "\n",
    "# Example usage\n",
    "num_disks = 3\n",
    "tower_of_hanoi(num_disks, 'A', 'B', 'C')"
   ]
  },
  {
   "cell_type": "code",
   "execution_count": null,
   "id": "62d9798b",
   "metadata": {},
   "outputs": [],
   "source": [
    "# Q6. Read about infix, prefix, and postfix expressions. Write a program to convert postfix to prefix expression."
   ]
  },
  {
   "cell_type": "code",
   "execution_count": 8,
   "id": "529d50b9",
   "metadata": {},
   "outputs": [
    {
     "name": "stdout",
     "output_type": "stream",
     "text": [
      "Prefix expression: +*235\n"
     ]
    }
   ],
   "source": [
    "def is_operator(char):\n",
    "    return char in \"+-*/\"\n",
    "\n",
    "def postfix_to_prefix(postfix_expression):\n",
    "    stack = []\n",
    "    \n",
    "    for char in postfix_expression:\n",
    "        if not is_operator(char):\n",
    "            stack.append(char)\n",
    "        else:\n",
    "            operand2 = stack.pop()\n",
    "            operand1 = stack.pop()\n",
    "            stack.append(char + operand1 + operand2)\n",
    "    \n",
    "    return stack.pop()\n",
    "\n",
    "# Example usage\n",
    "postfix_exp = \"23*5+\"\n",
    "prefix_exp = postfix_to_prefix(postfix_exp)\n",
    "print(\"Prefix expression:\", prefix_exp)"
   ]
  },
  {
   "cell_type": "code",
   "execution_count": null,
   "id": "d10521c8",
   "metadata": {},
   "outputs": [],
   "source": [
    "# Q7. Write a program to convert prefix expression to infix expression."
   ]
  },
  {
   "cell_type": "code",
   "execution_count": 12,
   "id": "5d676a35",
   "metadata": {},
   "outputs": [
    {
     "name": "stdout",
     "output_type": "stream",
     "text": [
      "Infix expression: ((2*3)+(4+5))\n"
     ]
    }
   ],
   "source": [
    "def is_operator(char):\n",
    "    return char in \"+-*/\"\n",
    "\n",
    "def prefix_to_infix(prefix_expression):\n",
    "    stack = []\n",
    "    \n",
    "    for char in reversed(prefix_expression):\n",
    "        if not is_operator(char):\n",
    "            stack.append(char)\n",
    "        else:\n",
    "            operand1 = stack.pop()\n",
    "            operand2 = stack.pop()\n",
    "            stack.append(\"(\" + operand1 + char + operand2 + \")\")\n",
    "    \n",
    "    return stack.pop()\n",
    "\n",
    "# Example usage\n",
    "prefix_exp = \"+*23+45\"\n",
    "infix_exp = prefix_to_infix(prefix_exp)\n",
    "print(\"Infix expression:\", infix_exp)"
   ]
  },
  {
   "cell_type": "code",
   "execution_count": null,
   "id": "2aff59d3",
   "metadata": {},
   "outputs": [],
   "source": [
    "# Q8. Write a program to check if all the brackets are closed in a given code snippet."
   ]
  },
  {
   "cell_type": "code",
   "execution_count": 14,
   "id": "84e732f4",
   "metadata": {},
   "outputs": [
    {
     "name": "stdout",
     "output_type": "stream",
     "text": [
      "Brackets are balanced.\n"
     ]
    }
   ],
   "source": [
    "def are_brackets_balanced(code):\n",
    "    stack = []\n",
    "    opening_brackets = \"({[\"\n",
    "    closing_brackets = \")}]\"\n",
    "    bracket_map = {')': '(', '}': '{', ']': '['}\n",
    "    \n",
    "    for char in code:\n",
    "        if char in opening_brackets:\n",
    "            stack.append(char)\n",
    "        elif char in closing_brackets:\n",
    "            if not stack or stack[-1] != bracket_map[char]:\n",
    "                return False\n",
    "            stack.pop()\n",
    "    \n",
    "    return len(stack) == 0\n",
    "\n",
    "# Example usage\n",
    "code_snippet = \"{[()]}\"\n",
    "if are_brackets_balanced(code_snippet):\n",
    "    print(\"Brackets are balanced.\")\n",
    "else:\n",
    "    print(\"Brackets are not balanced.\")"
   ]
  },
  {
   "cell_type": "code",
   "execution_count": null,
   "id": "07427390",
   "metadata": {},
   "outputs": [],
   "source": [
    "# Q9. Write a program to reverse a stack."
   ]
  },
  {
   "cell_type": "code",
   "execution_count": 15,
   "id": "3de5028c",
   "metadata": {},
   "outputs": [
    {
     "name": "stdout",
     "output_type": "stream",
     "text": [
      "Reversed stack:\n",
      "1\n",
      "2\n",
      "3\n",
      "4\n"
     ]
    }
   ],
   "source": [
    "class Stack:\n",
    "    def __init__(self):\n",
    "        self.items = []\n",
    "    \n",
    "    def is_empty(self):\n",
    "        return len(self.items) == 0\n",
    "    \n",
    "    def push(self, item):\n",
    "        self.items.append(item)\n",
    "    \n",
    "    def pop(self):\n",
    "        if not self.is_empty():\n",
    "            return self.items.pop()\n",
    "    \n",
    "    def peek(self):\n",
    "        if not self.is_empty():\n",
    "            return self.items[-1]\n",
    "    \n",
    "    def size(self):\n",
    "        return len(self.items)\n",
    "\n",
    "def reverse_stack(stack):\n",
    "    auxiliary_stack = Stack()\n",
    "    \n",
    "    while not stack.is_empty():\n",
    "        item = stack.pop()\n",
    "        auxiliary_stack.push(item)\n",
    "    \n",
    "    return auxiliary_stack\n",
    "\n",
    "# Example usage\n",
    "original_stack = Stack()\n",
    "original_stack.push(1)\n",
    "original_stack.push(2)\n",
    "original_stack.push(3)\n",
    "original_stack.push(4)\n",
    "\n",
    "reversed_stack = reverse_stack(original_stack)\n",
    "\n",
    "print(\"Reversed stack:\")\n",
    "while not reversed_stack.is_empty():\n",
    "    print(reversed_stack.pop())"
   ]
  },
  {
   "cell_type": "code",
   "execution_count": null,
   "id": "020a71d5",
   "metadata": {},
   "outputs": [],
   "source": [
    "# Q10. Write a program to find the smallest number using a stack."
   ]
  },
  {
   "cell_type": "code",
   "execution_count": 17,
   "id": "6d6f41c0",
   "metadata": {},
   "outputs": [
    {
     "name": "stdout",
     "output_type": "stream",
     "text": [
      "Smallest number in the stack: 2\n",
      "Smallest number in the stack after popping: 3\n"
     ]
    }
   ],
   "source": [
    "class StackWithMin:\n",
    "    def __init__(self):\n",
    "        self.stack = []\n",
    "        self.min_stack = []  # Auxiliary stack to keep track of minimum values\n",
    "    \n",
    "    def is_empty(self):\n",
    "        return len(self.stack) == 0\n",
    "    \n",
    "    def push(self, item):\n",
    "        self.stack.append(item)\n",
    "        if not self.min_stack or item <= self.min_stack[-1]:\n",
    "            self.min_stack.append(item)\n",
    "    \n",
    "    def pop(self):\n",
    "        if not self.is_empty():\n",
    "            popped_item = self.stack.pop()\n",
    "            if popped_item == self.min_stack[-1]:\n",
    "                self.min_stack.pop()\n",
    "            return popped_item\n",
    "    \n",
    "    def get_min(self):\n",
    "        if not self.min_stack:\n",
    "            return None\n",
    "        return self.min_stack[-1]\n",
    "\n",
    "# Example usage\n",
    "stack = StackWithMin()\n",
    "stack.push(5)\n",
    "stack.push(3)\n",
    "stack.push(7)\n",
    "stack.push(2)\n",
    "\n",
    "print(\"Smallest number in the stack:\", stack.get_min())  # Output: 2\n",
    "\n",
    "stack.pop()\n",
    "print(\"Smallest number in the stack after popping:\", stack.get_min())  # Output: 3"
   ]
  },
  {
   "cell_type": "code",
   "execution_count": null,
   "id": "1c2d21c5",
   "metadata": {},
   "outputs": [],
   "source": []
  }
 ],
 "metadata": {
  "kernelspec": {
   "display_name": "Python 3 (ipykernel)",
   "language": "python",
   "name": "python3"
  },
  "language_info": {
   "codemirror_mode": {
    "name": "ipython",
    "version": 3
   },
   "file_extension": ".py",
   "mimetype": "text/x-python",
   "name": "python",
   "nbconvert_exporter": "python",
   "pygments_lexer": "ipython3",
   "version": "3.11.3"
  }
 },
 "nbformat": 4,
 "nbformat_minor": 5
}
